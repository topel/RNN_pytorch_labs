{
 "cells": [
  {
   "cell_type": "markdown",
   "metadata": {
    "toc": true
   },
   "source": [
    "<h1>Table of Contents<span class=\"tocSkip\"></span></h1>\n",
    "<div class=\"toc\" style=\"margin-top: 1em;\"><ul class=\"toc-item\"></ul></div>"
   ]
  },
  {
   "cell_type": "markdown",
   "metadata": {},
   "source": [
    "Ce notebook permet de générer des batches de données à partir des fichiers texte de librivox."
   ]
  },
  {
   "cell_type": "code",
   "execution_count": 59,
   "metadata": {
    "ExecuteTime": {
     "end_time": "2019-11-20T10:12:56.094809Z",
     "start_time": "2019-11-20T10:12:56.090331Z"
    }
   },
   "outputs": [],
   "source": [
    "import torch\n",
    "import os\n",
    "import numpy as np\n",
    "import re"
   ]
  },
  {
   "cell_type": "code",
   "execution_count": 150,
   "metadata": {
    "ExecuteTime": {
     "end_time": "2019-11-20T16:14:22.381566Z",
     "start_time": "2019-11-20T16:14:22.377281Z"
    }
   },
   "outputs": [],
   "source": [
    "# constante pour limiter la taille du vocab \n",
    "WORD_OCC_THRESHOLD = 3"
   ]
  },
  {
   "cell_type": "code",
   "execution_count": 151,
   "metadata": {
    "ExecuteTime": {
     "end_time": "2019-11-20T16:14:22.748556Z",
     "start_time": "2019-11-20T16:14:22.735580Z"
    }
   },
   "outputs": [],
   "source": [
    "class Dictionary(object):\n",
    "    def __init__(self, word_occ_threshold = 0, dico_stats=None):\n",
    "        self.word2idx = {'<unk>': 0}\n",
    "        self.idx2word = ['<unk>']\n",
    "        self.word_occ_threshold = word_occ_threshold\n",
    "        self.dico_stats = dico_stats\n",
    "        \n",
    "    def add_word(self, word):\n",
    "        word_added = 0\n",
    "        if self.dico_stats is None:\n",
    "            if word not in self.word2idx:\n",
    "                self.idx2word.append(word)\n",
    "                self.word2idx[word] = len(self.idx2word) - 1\n",
    "                word_added = 1\n",
    "        else:\n",
    "            if word in self.dico_stats.word2stat and \\\n",
    "            self.dico_stats.word2stat[word] > self.word_occ_threshold and \\\n",
    "            word not in self.word2idx:\n",
    "                \n",
    "                self.idx2word.append(word)\n",
    "                self.word2idx[word] = len(self.idx2word) - 1\n",
    "                word_added = 1\n",
    "                \n",
    "        return word_added\n",
    "\n",
    "    def __len__(self):\n",
    "        return len(self.idx2word)"
   ]
  },
  {
   "cell_type": "code",
   "execution_count": 152,
   "metadata": {
    "ExecuteTime": {
     "end_time": "2019-11-20T16:14:23.328604Z",
     "start_time": "2019-11-20T16:14:23.319550Z"
    }
   },
   "outputs": [],
   "source": [
    "class WordStats(object):\n",
    "    \n",
    "    def __init__(self, stat_file_path):\n",
    "        \n",
    "        self.word2stat = {'<eos>': 1000}\n",
    "        self.input_file = stat_file_path\n",
    "        \n",
    "        with open(self.input_file, 'r') as fh:\n",
    "            for line in fh:\n",
    "                occ, wd = line.rstrip().split(' ')\n",
    "                # substituer le single quote en _\n",
    "                wd = re.sub(\"'\", \"_\", wd)\n",
    "                self.word2stat[wd] = int(occ)\n",
    "#                 print(wd, self.word2stat[wd])\n",
    "                \n",
    "    def __len__(self):\n",
    "        return len(self.word2stat)    "
   ]
  },
  {
   "cell_type": "code",
   "execution_count": 153,
   "metadata": {
    "ExecuteTime": {
     "end_time": "2019-11-20T16:14:23.884567Z",
     "start_time": "2019-11-20T16:14:23.864237Z"
    }
   },
   "outputs": [],
   "source": [
    "class Corpus(object):\n",
    "    \n",
    "    def __init__(self, path):\n",
    "        \n",
    "        self.dictionary_stats = WordStats(os.path.join(path, 'librivox_fr.stats'))\n",
    "        print(len(self.dictionary_stats))\n",
    "\n",
    "        self.dictionary = Dictionary(WORD_OCC_THRESHOLD, self.dictionary_stats)\n",
    "        \n",
    "        self.train = self.tokenize(os.path.join(path, 'train_librivox_fr_50words_max_15200.txt'))\n",
    "        self.test = self.tokenize(os.path.join(path, 'test_librivox_fr_50words_max_15200.txt'))\n",
    "    \n",
    "    def __len__(self):\n",
    "        return len(self.test)\n",
    "    \n",
    "    def tokenize(self, path):\n",
    "        \"\"\"Tokenizes a text file.\"\"\"\n",
    "        assert os.path.exists(path)\n",
    "        # Ajouter les mots au dictionnaire\n",
    "        with open(path, 'r') as f:\n",
    "            tokens = 0\n",
    "            for line in f:\n",
    "                words = line.split() + ['<eos>']\n",
    "                for word in words:\n",
    "                    # substituer le single quote en _\n",
    "                    word = re.sub(\"'\", \"_\", word)\n",
    "                    added_bool = self.dictionary.add_word(word)\n",
    "#                     tokens += added_bool\n",
    "                tokens += len(words)\n",
    "\n",
    "        # Tokenizer le contenu du fichier\n",
    "        with open(path, 'r') as f:\n",
    "            ids = torch.LongTensor(tokens)\n",
    "            token = 0\n",
    "            for line in f:\n",
    "                words = line.split() + ['<eos>']\n",
    "                for word in words:\n",
    "                    # substituer le single quote en _\n",
    "                    word = re.sub(\"'\", \"_\", word)\n",
    "                    \n",
    "                    if word in self.dictionary.idx2word and self.dictionary.word2idx[word] is not None:\n",
    "                        ids[token] = self.dictionary.word2idx[word]\n",
    "                    else:\n",
    "                        ids[token] = self.dictionary.word2idx['<unk>']\n",
    "                    token += 1\n",
    "\n",
    "        return ids\n",
    "    "
   ]
  },
  {
   "cell_type": "code",
   "execution_count": 154,
   "metadata": {
    "ExecuteTime": {
     "end_time": "2019-11-20T16:14:39.583800Z",
     "start_time": "2019-11-20T16:14:24.319117Z"
    }
   },
   "outputs": [
    {
     "name": "stdout",
     "output_type": "stream",
     "text": [
      "32737\n"
     ]
    },
    {
     "data": {
      "text/plain": [
       "1496"
      ]
     },
     "execution_count": 154,
     "metadata": {},
     "output_type": "execute_result"
    }
   ],
   "source": [
    "data_folder='librivox_fr/data_raw'\n",
    "corpus = Corpus(data_folder)\n",
    "len(corpus)"
   ]
  },
  {
   "cell_type": "code",
   "execution_count": 155,
   "metadata": {
    "ExecuteTime": {
     "end_time": "2019-11-20T16:14:39.590161Z",
     "start_time": "2019-11-20T16:14:39.586392Z"
    }
   },
   "outputs": [],
   "source": [
    "def batchify(data, bsz):\n",
    "    # Calcul du nb de batches possible en fonction de la taille des batches bsz.\n",
    "    nbatch = data.size(0) // bsz\n",
    "    # Retirer le surplus de data\n",
    "    data = data.narrow(0, 0, nbatch * bsz)\n",
    "    # Faire le reshape pour obtenir bsz batches.\n",
    "    data = data.view(bsz, -1).t().contiguous()\n",
    "    return data"
   ]
  },
  {
   "cell_type": "code",
   "execution_count": 156,
   "metadata": {
    "ExecuteTime": {
     "end_time": "2019-11-20T16:14:39.626570Z",
     "start_time": "2019-11-20T16:14:39.591793Z"
    }
   },
   "outputs": [
    {
     "name": "stdout",
     "output_type": "stream",
     "text": [
      "torch.Size([20542, 20])\n",
      "torch.Size([74, 20])\n"
     ]
    }
   ],
   "source": [
    "batch_size=20\n",
    "\n",
    "train_data = batchify(corpus.train, batch_size)\n",
    "# val_data = batchify(corpus.valid, batch_size)\n",
    "test_data = batchify(corpus.test, batch_size)\n",
    "\n",
    "vocab_size = len(corpus.dictionary)\n",
    "\n",
    "print(train_data.size())\n",
    "print(test_data.size())\n",
    "\n",
    "train_length = train_data.size(0)\n",
    "test_length  = test_data.size(0)"
   ]
  },
  {
   "cell_type": "code",
   "execution_count": 157,
   "metadata": {
    "ExecuteTime": {
     "end_time": "2019-11-20T16:14:40.122690Z",
     "start_time": "2019-11-20T16:14:39.629995Z"
    }
   },
   "outputs": [],
   "source": [
    "torch.save(train_data,'librivox_fr/train_data.pt')\n",
    "torch.save(test_data,'librivox_fr/test_data.pt')\n",
    "torch.save(corpus.dictionary.idx2word,'librivox_fr/idx2word.pt')\n",
    "torch.save(corpus.dictionary.word2idx,'librivox_fr/word2idx.pt')"
   ]
  },
  {
   "cell_type": "code",
   "execution_count": null,
   "metadata": {},
   "outputs": [],
   "source": []
  }
 ],
 "metadata": {
  "kernelspec": {
   "display_name": "Python 3",
   "language": "python",
   "name": "python3"
  },
  "language_info": {
   "codemirror_mode": {
    "name": "ipython",
    "version": 3
   },
   "file_extension": ".py",
   "mimetype": "text/x-python",
   "name": "python",
   "nbconvert_exporter": "python",
   "pygments_lexer": "ipython3",
   "version": "3.6.3"
  },
  "toc": {
   "nav_menu": {},
   "number_sections": true,
   "sideBar": true,
   "skip_h1_title": false,
   "toc_cell": true,
   "toc_position": {},
   "toc_section_display": "block",
   "toc_window_display": false
  }
 },
 "nbformat": 4,
 "nbformat_minor": 2
}
