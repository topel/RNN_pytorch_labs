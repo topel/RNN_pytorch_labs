{
 "cells": [
  {
   "cell_type": "markdown",
   "metadata": {
    "toc": true
   },
   "source": [
    "<h1>Table of Contents<span class=\"tocSkip\"></span></h1>\n",
    "<div class=\"toc\" style=\"margin-top: 1em;\"><ul class=\"toc-item\"><li><span><a href=\"#RNN-à-partir-de-caractères\" data-toc-modified-id=\"RNN-à-partir-de-caractères-1\"><span class=\"toc-item-num\">1&nbsp;&nbsp;</span>RNN à partir de caractères</a></span></li><li><span><a href=\"#Préparation-des-données\" data-toc-modified-id=\"Préparation-des-données-2\"><span class=\"toc-item-num\">2&nbsp;&nbsp;</span>Préparation des données</a></span></li><li><span><a href=\"#Création-du-RNN\" data-toc-modified-id=\"Création-du-RNN-3\"><span class=\"toc-item-num\">3&nbsp;&nbsp;</span>Création du RNN</a></span></li><li><span><a href=\"#Training\" data-toc-modified-id=\"Training-4\"><span class=\"toc-item-num\">4&nbsp;&nbsp;</span>Training</a></span></li><li><span><a href=\"#Évaluation\" data-toc-modified-id=\"Évaluation-5\"><span class=\"toc-item-num\">5&nbsp;&nbsp;</span>Évaluation</a></span></li><li><span><a href=\"#Visualizing-memorization\" data-toc-modified-id=\"Visualizing-memorization-6\"><span class=\"toc-item-num\">6&nbsp;&nbsp;</span>Visualizing memorization</a></span></li></ul></div>"
   ]
  },
  {
   "cell_type": "markdown",
   "metadata": {},
   "source": [
    "# RNN à partir de caractères"
   ]
  },
  {
   "cell_type": "markdown",
   "metadata": {},
   "source": [
    "Dans ce TP, nous allons définir notre propre RNN en créant une classe RNN qui hérite de l'objet nn.Module de PyTorch."
   ]
  },
  {
   "cell_type": "markdown",
   "metadata": {},
   "source": [
    "# Préparation des données"
   ]
  },
  {
   "cell_type": "code",
   "execution_count": 1,
   "metadata": {
    "ExecuteTime": {
     "end_time": "2019-11-28T09:47:10.490658Z",
     "start_time": "2019-11-28T09:47:10.373266Z"
    }
   },
   "outputs": [
    {
     "name": "stdout",
     "output_type": "stream",
     "text": [
      "['data/names/Russian.txt', 'data/names/English.txt', 'data/names/German.txt', 'data/names/Japanese.txt', 'data/names/Polish.txt', 'data/names/French.txt', 'data/names/Korean.txt', 'data/names/Chinese.txt', 'data/names/Vietnamese.txt', 'data/names/Italian.txt', 'data/names/Spanish.txt', 'data/names/Czech.txt', 'data/names/Arabic.txt', 'data/names/Scottish.txt', 'data/names/Dutch.txt', 'data/names/Greek.txt', 'data/names/Portuguese.txt', 'data/names/Irish.txt']\n",
      "Slusarski\n"
     ]
    }
   ],
   "source": [
    "from __future__ import unicode_literals, print_function, division\n",
    "from io import open\n",
    "import glob\n",
    "import os\n",
    "\n",
    "def findFiles(path): return glob.glob(path)\n",
    "\n",
    "print(findFiles('data/names/*.txt'))\n",
    "\n",
    "import unicodedata\n",
    "import string\n",
    "\n",
    "all_letters = string.ascii_letters + \" .,;'\"\n",
    "n_letters = len(all_letters)\n",
    "\n",
    "def unicodeToAscii(s):\n",
    "    return ''.join(\n",
    "        c for c in unicodedata.normalize('NFD', s)\n",
    "        if unicodedata.category(c) != 'Mn'\n",
    "        and c in all_letters\n",
    "    )\n",
    "\n",
    "print(unicodeToAscii('Ślusàrski'))\n",
    "\n",
    "# Build the category_lines dictionary, a list of names per language\n",
    "category_lines = {}\n",
    "all_categories = []\n",
    "\n",
    "# Read a file and split into lines\n",
    "def readLines(filename):\n",
    "    lines = open(filename, encoding='utf-8').read().strip().split('\\n')\n",
    "    return [unicodeToAscii(line) for line in lines]\n",
    "\n",
    "for filename in findFiles('data/names/*.txt'):\n",
    "    category = os.path.splitext(os.path.basename(filename))[0]\n",
    "    all_categories.append(category)\n",
    "    lines = readLines(filename)\n",
    "    category_lines[category] = lines\n",
    "\n",
    "n_categories = len(all_categories)"
   ]
  },
  {
   "cell_type": "code",
   "execution_count": 2,
   "metadata": {
    "ExecuteTime": {
     "end_time": "2019-11-28T09:51:07.809323Z",
     "start_time": "2019-11-28T09:51:07.803373Z"
    }
   },
   "outputs": [
    {
     "name": "stdout",
     "output_type": "stream",
     "text": [
      "['Abandonato', 'Abatangelo', 'Abatantuono', 'Abate', 'Abategiovanni']\n"
     ]
    }
   ],
   "source": [
    "print(category_lines['Italian'][:5])"
   ]
  },
  {
   "cell_type": "code",
   "execution_count": 3,
   "metadata": {
    "ExecuteTime": {
     "end_time": "2019-11-28T09:51:24.994990Z",
     "start_time": "2019-11-28T09:51:24.313601Z"
    }
   },
   "outputs": [
    {
     "name": "stdout",
     "output_type": "stream",
     "text": [
      "tensor([[0., 0., 0., 0., 0., 0., 0., 0., 0., 0., 0., 0., 0., 0., 0., 0., 0., 0.,\n",
      "         0., 0., 0., 0., 0., 0., 0., 0., 0., 0., 0., 0., 0., 0., 0., 0., 0., 1.,\n",
      "         0., 0., 0., 0., 0., 0., 0., 0., 0., 0., 0., 0., 0., 0., 0., 0., 0., 0.,\n",
      "         0., 0., 0.]])\n",
      "torch.Size([5, 1, 57])\n"
     ]
    }
   ],
   "source": [
    "import torch\n",
    "\n",
    "# Find letter index from all_letters, e.g. \"a\" = 0\n",
    "def letterToIndex(letter):\n",
    "    return all_letters.find(letter)\n",
    "\n",
    "# Just for demonstration, turn a letter into a <1 x n_letters> Tensor\n",
    "def letterToTensor(letter):\n",
    "    tensor = torch.zeros(1, n_letters)\n",
    "    tensor[0][letterToIndex(letter)] = 1\n",
    "    return tensor\n",
    "\n",
    "# Turn a line into a <line_length x 1 x n_letters>,\n",
    "# or an array of one-hot letter vectors\n",
    "def lineToTensor(line):\n",
    "    tensor = torch.zeros(len(line), 1, n_letters)\n",
    "    for li, letter in enumerate(line):\n",
    "        tensor[li][0][letterToIndex(letter)] = 1\n",
    "    return tensor\n",
    "\n",
    "print(letterToTensor('J'))\n",
    "\n",
    "print(lineToTensor('Jones').size())"
   ]
  },
  {
   "cell_type": "markdown",
   "metadata": {},
   "source": [
    "# Création du RNN"
   ]
  },
  {
   "cell_type": "markdown",
   "metadata": {},
   "source": [
    "<img src=\"images/rnn_a_definir.png\" width=300>"
   ]
  },
  {
   "cell_type": "code",
   "execution_count": 4,
   "metadata": {
    "ExecuteTime": {
     "end_time": "2019-11-28T09:55:36.461357Z",
     "start_time": "2019-11-28T09:55:36.445278Z"
    }
   },
   "outputs": [],
   "source": [
    "import torch.nn as nn\n",
    "\n",
    "class RNN(nn.Module):\n",
    "    def __init__(self, input_size, hidden_size, output_size):\n",
    "        super(RNN, self).__init__()\n",
    "\n",
    "        self.hidden_size = hidden_size\n",
    "\n",
    "        self.i2h = nn.Linear(input_size + hidden_size, hidden_size)\n",
    "        self.i2o = nn.Linear(input_size + hidden_size, output_size)\n",
    "        self.softmax = nn.LogSoftmax(dim=1)\n",
    "\n",
    "    def forward(self, input, hidden):\n",
    "        combined = torch.cat((input, hidden), 1)\n",
    "        hidden = self.i2h(combined)\n",
    "        output = self.i2o(combined)\n",
    "        output = self.softmax(output)\n",
    "        return output, hidden\n",
    "\n",
    "    def initHidden(self):\n",
    "        return torch.zeros(1, self.hidden_size)\n",
    "\n",
    "n_hidden = 128\n",
    "rnn = RNN(n_letters, n_hidden, n_categories)"
   ]
  },
  {
   "cell_type": "code",
   "execution_count": 24,
   "metadata": {
    "ExecuteTime": {
     "end_time": "2019-11-28T13:47:35.225275Z",
     "start_time": "2019-11-28T13:47:35.219541Z"
    }
   },
   "outputs": [],
   "source": [
    "input = letterToTensor('A')\n",
    "hidden =torch.zeros(1, n_hidden)\n",
    "\n",
    "output, next_hidden = rnn(input, hidden)\n",
    "\n"
   ]
  },
  {
   "cell_type": "code",
   "execution_count": 6,
   "metadata": {
    "ExecuteTime": {
     "end_time": "2019-11-28T09:55:59.021189Z",
     "start_time": "2019-11-28T09:55:59.012339Z"
    }
   },
   "outputs": [
    {
     "name": "stdout",
     "output_type": "stream",
     "text": [
      "tensor([[-2.9562, -2.8321, -2.7705, -2.8851, -2.9330, -2.9005, -2.8837, -2.8485,\n",
      "         -2.8667, -2.9058, -2.8861, -2.8395, -2.9783, -2.9334, -2.9684, -2.8874,\n",
      "         -2.9010, -2.8731]], grad_fn=<LogSoftmaxBackward>)\n"
     ]
    }
   ],
   "source": [
    "input = lineToTensor('Albert')\n",
    "hidden = torch.zeros(1, n_hidden)\n",
    "\n",
    "output, next_hidden = rnn(input[0], hidden)\n",
    "print(output)"
   ]
  },
  {
   "cell_type": "markdown",
   "metadata": {},
   "source": [
    "# Training"
   ]
  },
  {
   "cell_type": "code",
   "execution_count": 7,
   "metadata": {
    "ExecuteTime": {
     "end_time": "2019-11-28T09:56:21.587231Z",
     "start_time": "2019-11-28T09:56:21.581062Z"
    }
   },
   "outputs": [
    {
     "name": "stdout",
     "output_type": "stream",
     "text": [
      "('German', 2)\n"
     ]
    }
   ],
   "source": [
    "def categoryFromOutput(output):\n",
    "    top_n, top_i = output.topk(1)\n",
    "    category_i = top_i[0].item()\n",
    "    return all_categories[category_i], category_i\n",
    "\n",
    "print(categoryFromOutput(output))"
   ]
  },
  {
   "cell_type": "code",
   "execution_count": 8,
   "metadata": {
    "ExecuteTime": {
     "end_time": "2019-11-28T09:56:29.193313Z",
     "start_time": "2019-11-28T09:56:29.173138Z"
    }
   },
   "outputs": [
    {
     "name": "stdout",
     "output_type": "stream",
     "text": [
      "category = Arabic / line = Mustafa\n",
      "category = German / line = Wolff\n",
      "category = Spanish / line = Tapia\n",
      "category = Italian / line = Lippi\n",
      "category = English / line = Hopwood\n",
      "category = Japanese / line = Ienari\n",
      "category = English / line = Olding\n",
      "category = Japanese / line = Hirase\n",
      "category = Russian / line = Hitrovo\n",
      "category = Chinese / line = Ping\n"
     ]
    }
   ],
   "source": [
    "import random\n",
    "\n",
    "def randomChoice(l):\n",
    "    return l[random.randint(0, len(l) - 1)]\n",
    "\n",
    "def randomTrainingExample():\n",
    "    category = randomChoice(all_categories)\n",
    "    line = randomChoice(category_lines[category])\n",
    "    category_tensor = torch.tensor([all_categories.index(category)], dtype=torch.long)\n",
    "    line_tensor = lineToTensor(line)\n",
    "    return category, line, category_tensor, line_tensor\n",
    "\n",
    "for i in range(10):\n",
    "    category, line, category_tensor, line_tensor = randomTrainingExample()\n",
    "    print('category =', category, '/ line =', line)"
   ]
  },
  {
   "cell_type": "code",
   "execution_count": 9,
   "metadata": {
    "ExecuteTime": {
     "end_time": "2019-11-28T09:56:39.745068Z",
     "start_time": "2019-11-28T09:56:39.741128Z"
    }
   },
   "outputs": [],
   "source": [
    "criterion = nn.NLLLoss()\n"
   ]
  },
  {
   "cell_type": "code",
   "execution_count": 10,
   "metadata": {
    "ExecuteTime": {
     "end_time": "2019-11-28T09:56:47.749602Z",
     "start_time": "2019-11-28T09:56:47.741196Z"
    }
   },
   "outputs": [],
   "source": [
    "learning_rate = 0.005 # If you set this too high, it might explode. If too low, it might not learn\n",
    "\n",
    "def train(category_tensor, line_tensor):\n",
    "    hidden = rnn.initHidden()\n",
    "\n",
    "    rnn.zero_grad()\n",
    "\n",
    "    for i in range(line_tensor.size()[0]):\n",
    "        output, hidden = rnn(line_tensor[i], hidden)\n",
    "\n",
    "    loss = criterion(output, category_tensor)\n",
    "    loss.backward()\n",
    "\n",
    "    # Add parameters' gradients to their values, multiplied by learning rate\n",
    "    for p in rnn.parameters():\n",
    "        p.data.add_(-learning_rate, p.grad.data)\n",
    "\n",
    "    return output, loss.item()"
   ]
  },
  {
   "cell_type": "code",
   "execution_count": 11,
   "metadata": {
    "ExecuteTime": {
     "end_time": "2019-11-28T10:01:39.376813Z",
     "start_time": "2019-11-28T09:56:58.253239Z"
    }
   },
   "outputs": [
    {
     "name": "stdout",
     "output_type": "stream",
     "text": [
      "5000 5% (0m 14s) 3.3056 Laar / Chinese ✗ (Dutch)\n",
      "10000 10% (0m 27s) 2.4365 Dasaev / Japanese ✗ (Russian)\n",
      "15000 15% (0m 41s) 2.7992 Neil / German ✗ (Irish)\n",
      "20000 20% (0m 55s) 0.6113 Rudawski / Polish ✓\n",
      "25000 25% (1m 10s) 1.5610 Charron / French ✓\n",
      "30000 30% (1m 24s) 0.4321 Altimari / Italian ✓\n",
      "35000 35% (1m 37s) 1.1071 Alcheri / Italian ✓\n",
      "40000 40% (1m 51s) 1.9532 Bonheur / Arabic ✗ (French)\n",
      "45000 45% (2m 6s) 0.7203 Bleier / German ✓\n",
      "50000 50% (2m 21s) 0.4863 Qiao / Chinese ✓\n",
      "55000 55% (2m 36s) 2.0591 Karl / Arabic ✗ (Dutch)\n",
      "60000 60% (2m 50s) 2.0289 Parris / Greek ✗ (French)\n",
      "65000 65% (3m 4s) 0.8272 Bao / Chinese ✓\n",
      "70000 70% (3m 18s) 1.3499 Shalhoub / Arabic ✓\n",
      "75000 75% (3m 32s) 0.2587 Castro / Portuguese ✓\n",
      "80000 80% (3m 45s) 2.9537 Denend / English ✗ (Dutch)\n",
      "85000 85% (3m 59s) 0.7454 Astbury / English ✓\n",
      "90000 90% (4m 13s) 0.2565 Salvaggi / Italian ✓\n",
      "95000 95% (4m 27s) 0.7820 Soares / Portuguese ✓\n",
      "100000 100% (4m 41s) 2.1866 Visnap / Czech ✗ (Russian)\n"
     ]
    }
   ],
   "source": [
    "import time\n",
    "import math\n",
    "\n",
    "n_iters = 100000\n",
    "print_every = 5000\n",
    "plot_every = 1000\n",
    "\n",
    "# Keep track of losses for plotting\n",
    "current_loss = 0\n",
    "all_losses = []\n",
    "\n",
    "def timeSince(since):\n",
    "    now = time.time()\n",
    "    s = now - since\n",
    "    m = math.floor(s / 60)\n",
    "    s -= m * 60\n",
    "    return '%dm %ds' % (m, s)\n",
    "\n",
    "start = time.time()\n",
    "\n",
    "for iter in range(1, n_iters + 1):\n",
    "    category, line, category_tensor, line_tensor = randomTrainingExample()\n",
    "    output, loss = train(category_tensor, line_tensor)\n",
    "    current_loss += loss\n",
    "\n",
    "    # Print iter number, loss, name and guess\n",
    "    if iter % print_every == 0:\n",
    "        guess, guess_i = categoryFromOutput(output)\n",
    "        correct = '✓' if guess == category else '✗ (%s)' % category\n",
    "        print('%d %d%% (%s) %.4f %s / %s %s' % (iter, iter / n_iters * 100, timeSince(start), loss, line, guess, correct))\n",
    "\n",
    "    # Add current loss avg to list of losses\n",
    "    if iter % plot_every == 0:\n",
    "        all_losses.append(current_loss / plot_every)\n",
    "        current_loss = 0"
   ]
  },
  {
   "cell_type": "code",
   "execution_count": 13,
   "metadata": {
    "ExecuteTime": {
     "end_time": "2019-11-28T13:21:51.361932Z",
     "start_time": "2019-11-28T13:21:51.140447Z"
    }
   },
   "outputs": [
    {
     "data": {
      "image/png": "[encoded data removed]",
      "text/plain": [
       "<Figure size 432x288 with 1 Axes>"
      ]
     },
     "metadata": {
      "needs_background": "light"
     },
     "output_type": "display_data"
    }
   ],
   "source": [
    "import matplotlib.pyplot as plt\n",
    "import matplotlib.ticker as ticker\n",
    "\n",
    "plt.figure()\n",
    "plt.plot(all_losses)\n",
    "plt.show()"
   ]
  },
  {
   "cell_type": "markdown",
   "metadata": {},
   "source": [
    "# Évaluation"
   ]
  },
  {
   "cell_type": "code",
   "execution_count": 14,
   "metadata": {
    "ExecuteTime": {
     "end_time": "2019-11-28T13:22:01.182110Z",
     "start_time": "2019-11-28T13:21:54.273432Z"
    }
   },
   "outputs": [
    {
     "data": {
      "image/png": "[encoded data removed]",
      "text/plain": [
       "<Figure size 432x288 with 2 Axes>"
      ]
     },
     "metadata": {
      "needs_background": "light"
     },
     "output_type": "display_data"
    }
   ],
   "source": [
    "# Keep track of correct guesses in a confusion matrix\n",
    "confusion = torch.zeros(n_categories, n_categories)\n",
    "n_confusion = 10000\n",
    "\n",
    "# Just return an output given a line\n",
    "def evaluate(line_tensor):\n",
    "    hidden = rnn.initHidden()\n",
    "\n",
    "    for i in range(line_tensor.size()[0]):\n",
    "        output, hidden = rnn(line_tensor[i], hidden)\n",
    "\n",
    "    return output\n",
    "\n",
    "# Go through a bunch of examples and record which are correctly guessed\n",
    "for i in range(n_confusion):\n",
    "    category, line, category_tensor, line_tensor = randomTrainingExample()\n",
    "    output = evaluate(line_tensor)\n",
    "    guess, guess_i = categoryFromOutput(output)\n",
    "    category_i = all_categories.index(category)\n",
    "    confusion[category_i][guess_i] += 1\n",
    "\n",
    "# Normalize by dividing every row by its sum\n",
    "for i in range(n_categories):\n",
    "    confusion[i] = confusion[i] / confusion[i].sum()\n",
    "\n",
    "# Set up plot\n",
    "fig = plt.figure()\n",
    "ax = fig.add_subplot(111)\n",
    "cax = ax.matshow(confusion.numpy())\n",
    "fig.colorbar(cax)\n",
    "\n",
    "# Set up axes\n",
    "ax.set_xticklabels([''] + all_categories, rotation=90)\n",
    "ax.set_yticklabels([''] + all_categories)\n",
    "\n",
    "# Force label at every tick\n",
    "ax.xaxis.set_major_locator(ticker.MultipleLocator(1))\n",
    "ax.yaxis.set_major_locator(ticker.MultipleLocator(1))\n",
    "\n",
    "# sphinx_gallery_thumbnail_number = 2\n",
    "plt.show()\n"
   ]
  },
  {
   "cell_type": "code",
   "execution_count": 15,
   "metadata": {
    "ExecuteTime": {
     "end_time": "2019-11-28T13:22:08.960837Z",
     "start_time": "2019-11-28T13:22:08.939280Z"
    }
   },
   "outputs": [
    {
     "name": "stdout",
     "output_type": "stream",
     "text": [
      "\n",
      "> Dovesky\n",
      "(-0.19) Russian\n",
      "(-2.06) Czech\n",
      "(-3.87) English\n",
      "\n",
      "> Jackson\n",
      "(-0.28) Scottish\n",
      "(-2.49) Russian\n",
      "(-2.49) English\n",
      "\n",
      "> Satoshi\n",
      "(-0.78) Japanese\n",
      "(-1.25) Arabic\n",
      "(-2.44) Italian\n"
     ]
    }
   ],
   "source": [
    "def predict(input_line, n_predictions=3):\n",
    "    print('\\n> %s' % input_line)\n",
    "    with torch.no_grad():\n",
    "        output = evaluate(lineToTensor(input_line))\n",
    "\n",
    "        # Get top N categories\n",
    "        topv, topi = output.topk(n_predictions, 1, True)\n",
    "        predictions = []\n",
    "\n",
    "        for i in range(n_predictions):\n",
    "            value = topv[0][i].item()\n",
    "            category_index = topi[0][i].item()\n",
    "            print('(%.2f) %s' % (value, all_categories[category_index]))\n",
    "            predictions.append([value, all_categories[category_index]])\n",
    "\n",
    "predict('Dovesky')\n",
    "predict('Jackson')\n",
    "predict('Satoshi')"
   ]
  },
  {
   "cell_type": "markdown",
   "metadata": {},
   "source": [
    "# Visualizing memorization"
   ]
  },
  {
   "cell_type": "code",
   "execution_count": 119,
   "metadata": {
    "ExecuteTime": {
     "end_time": "2019-11-28T15:50:47.994047Z",
     "start_time": "2019-11-28T15:50:47.733519Z"
    }
   },
   "outputs": [
    {
     "name": "stdout",
     "output_type": "stream",
     "text": [
      "pred: 5 French\n",
      "GT: 5 French\n"
     ]
    },
    {
     "data": {
      "image/png": "[encoded data removed]",
      "text/plain": [
       "<Figure size 576x432 with 1 Axes>"
      ]
     },
     "metadata": {
      "needs_background": "light"
     },
     "output_type": "display_data"
    }
   ],
   "source": [
    "# https://distill.pub/2019/memorization-in-rnns/\n",
    "\n",
    "from torch.autograd import Variable\n",
    "import torch.autograd\n",
    "import numpy as np\n",
    "\n",
    "# nom = 'Dovesky'\n",
    "# nom = 'Jackson'\n",
    "# nom = 'Mohammed'\n",
    "# nom = 'Sébastien'\n",
    "nom = 'Dominique'\n",
    "# nom='Thomas'\n",
    "\n",
    "category_index = 5\n",
    "\n",
    "line_tensor = lineToTensor(nom)\n",
    "# print(line_tensor.size())\n",
    "# print(line_tensor[0,0])\n",
    "line_tensor.requires_grad_()\n",
    "\n",
    "gradient_groundtruth_list = []\n",
    "hidden = rnn.initHidden()\n",
    "for i in range(line_tensor.size()[0]):\n",
    "    output, hidden = rnn(line_tensor[i], hidden)\n",
    "    g_groundtruth = torch.autograd.grad(output[0, category_index], line_tensor, retain_graph=True)[0].data\n",
    "    gradient_groundtruth_list.append(g_groundtruth)\n",
    "#     print(i, g.size(), g)\n",
    "    \n",
    "topv, topi = output.topk(1, 1, True)\n",
    "category_index_predicted = topi[0][0].item()\n",
    "print('pred: %i %s' %(category_index_predicted, all_categories[category_index_predicted]))\n",
    "print('GT: %i %s' %(category_index, all_categories[category_index]))\n",
    "\n",
    "gradient_pred_list = []\n",
    "hidden = rnn.initHidden()\n",
    "for i in range(line_tensor.size()[0]):\n",
    "    output, hidden = rnn(line_tensor[i], hidden)\n",
    "    g = torch.autograd.grad(output[0, category_index_predicted], line_tensor, retain_graph=True)[0].data\n",
    "    gradient_pred_list.append(g)\n",
    "\n",
    "\n",
    "# On calcule la \"connectivity\"\n",
    "# https://discuss.pytorch.org/t/newbie-getting-the-gradient-with-respect-to-the-input/12709/2\n",
    "# g = torch.autograd.grad(output[0,category_index], line_tensor, retain_graph=True)[0].data\n",
    "# print(g.size())\n",
    "# g = torch.autograd.grad(outputs[:,0,category_index], line_tensor, retain_graph=True)[0].data\n",
    "\n",
    "connectivity = np.zeros((line_tensor.size()[0],line_tensor.size()[0]))\n",
    "\n",
    "for i in range(line_tensor.size()[0]):\n",
    "    char_index = letterToIndex(nom[i])\n",
    "#     print(i, g[i,0,char_index])\n",
    "    connectivity[:,i] = np.abs(gradient_groundtruth_list[i][:, 0, char_index].detach().cpu().numpy())\n",
    "#     print(nom[i], connectivity[:,i])\n",
    "    \n",
    "\n",
    "plt.figure(figsize=(8,6))\n",
    "plt.imshow(connectivity)\n",
    "plt.ylabel(\"Time step\", fontsize=14)\n",
    "toto = plt.yticks(ticks=range(len(nom)), fontsize=14)\n",
    "toto = plt.xticks(ticks=range(len(nom)), labels=list(nom), fontsize=14)"
   ]
  },
  {
   "cell_type": "code",
   "execution_count": 120,
   "metadata": {
    "ExecuteTime": {
     "end_time": "2019-11-28T15:50:49.093152Z",
     "start_time": "2019-11-28T15:50:48.801685Z"
    }
   },
   "outputs": [
    {
     "data": {
      "image/png": "[encoded data removed]",
      "text/plain": [
       "<Figure size 576x432 with 1 Axes>"
      ]
     },
     "metadata": {
      "needs_background": "light"
     },
     "output_type": "display_data"
    }
   ],
   "source": [
    "connectivity = np.zeros((line_tensor.size()[0],line_tensor.size()[0]))\n",
    "\n",
    "for i in range(line_tensor.size()[0]):\n",
    "    char_index = letterToIndex(nom[i])\n",
    "#     print(i, g[i,0,char_index])\n",
    "    connectivity[:,i] = np.abs(gradient_pred_list[i][:, 0, char_index].detach().cpu().numpy())\n",
    "#     print(nom[i], connectivity[:,i])\n",
    "\n",
    "plt.figure(figsize=(8,6))\n",
    "plt.imshow(connectivity)\n",
    "plt.ylabel(\"Time step\", fontsize=14)\n",
    "toto = plt.yticks(ticks=range(len(nom)), fontsize=14)\n",
    "toto = plt.xticks(ticks=range(len(nom)), labels=list(nom), fontsize=14)"
   ]
  },
  {
   "cell_type": "code",
   "execution_count": 77,
   "metadata": {
    "ExecuteTime": {
     "end_time": "2019-11-28T15:17:30.680296Z",
     "start_time": "2019-11-28T15:17:30.668870Z"
    }
   },
   "outputs": [],
   "source": [
    "torch.autograd.grad?"
   ]
  },
  {
   "cell_type": "code",
   "execution_count": 27,
   "metadata": {
    "ExecuteTime": {
     "end_time": "2019-11-28T13:51:27.431676Z",
     "start_time": "2019-11-28T13:51:27.424996Z"
    }
   },
   "outputs": [
    {
     "data": {
      "text/plain": [
       "['Russian',\n",
       " 'English',\n",
       " 'German',\n",
       " 'Japanese',\n",
       " 'Polish',\n",
       " 'French',\n",
       " 'Korean',\n",
       " 'Chinese',\n",
       " 'Vietnamese',\n",
       " 'Italian',\n",
       " 'Spanish',\n",
       " 'Czech',\n",
       " 'Arabic',\n",
       " 'Scottish',\n",
       " 'Dutch',\n",
       " 'Greek',\n",
       " 'Portuguese',\n",
       " 'Irish']"
      ]
     },
     "execution_count": 27,
     "metadata": {},
     "output_type": "execute_result"
    }
   ],
   "source": [
    "all_categories"
   ]
  },
  {
   "cell_type": "code",
   "execution_count": null,
   "metadata": {},
   "outputs": [],
   "source": []
  }
 ],
 "metadata": {
  "kernelspec": {
   "display_name": "Python 3",
   "language": "python",
   "name": "python3"
  },
  "language_info": {
   "codemirror_mode": {
    "name": "ipython",
    "version": 3
   },
   "file_extension": ".py",
   "mimetype": "text/x-python",
   "name": "python",
   "nbconvert_exporter": "python",
   "pygments_lexer": "ipython3",
   "version": "3.6.3"
  },
  "toc": {
   "nav_menu": {},
   "number_sections": true,
   "sideBar": true,
   "skip_h1_title": false,
   "toc_cell": true,
   "toc_position": {},
   "toc_section_display": "block",
   "toc_window_display": false
  }
 },
 "nbformat": 4,
 "nbformat_minor": 2
}
