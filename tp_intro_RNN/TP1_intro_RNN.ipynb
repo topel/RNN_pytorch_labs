{
 "cells": [
  {
   "cell_type": "markdown",
   "metadata": {
    "toc": true
   },
   "source": [
    "<h1>Table of Contents<span class=\"tocSkip\"></span></h1>\n",
    "<div class=\"toc\" style=\"margin-top: 1em;\"><ul class=\"toc-item\"><li><span><a href=\"#TP-intro-aux-RNNs-en-PyTorch\" data-toc-modified-id=\"TP-intro-aux-RNNs-en-PyTorch-1\"><span class=\"toc-item-num\">1&nbsp;&nbsp;</span>TP intro aux RNNs en PyTorch</a></span></li><li><span><a href=\"#Manipulation-basique-de-RNNCell\" data-toc-modified-id=\"Manipulation-basique-de-RNNCell-2\"><span class=\"toc-item-num\">2&nbsp;&nbsp;</span>Manipulation basique de RNNCell</a></span></li><li><span><a href=\"#Manipulation-basique-de-RNN\" data-toc-modified-id=\"Manipulation-basique-de-RNN-3\"><span class=\"toc-item-num\">3&nbsp;&nbsp;</span>Manipulation basique de RNN</a></span></li><li><span><a href=\"#Données-séquentielles\" data-toc-modified-id=\"Données-séquentielles-4\"><span class=\"toc-item-num\">4&nbsp;&nbsp;</span>Données séquentielles</a></span></li><li><span><a href=\"#Limites-des-RNNs-&quot;vanilla&quot;\" data-toc-modified-id=\"Limites-des-RNNs-&quot;vanilla&quot;-5\"><span class=\"toc-item-num\">5&nbsp;&nbsp;</span>Limites des RNNs \"vanilla\"</a></span></li><li><span><a href=\"#RNNs-bidirectionnels\" data-toc-modified-id=\"RNNs-bidirectionnels-6\"><span class=\"toc-item-num\">6&nbsp;&nbsp;</span>RNNs bidirectionnels</a></span></li></ul></div>"
   ]
  },
  {
   "cell_type": "markdown",
   "metadata": {},
   "source": [
    "# TP intro aux RNNs en PyTorch"
   ]
  },
  {
   "cell_type": "markdown",
   "metadata": {
    "ExecuteTime": {
     "end_time": "2019-11-27T17:56:28.925765Z",
     "start_time": "2019-11-27T17:56:28.916033Z"
    }
   },
   "source": [
    "Lorsque l'on travaille avec des données séquentielles (séries temporelles, phrases, etc.), l'ordre des entrées est crucial pour la tâche à accomplir. Les réseaux neuronaux récurrents (RNN) traitent les données séquentielles en tenant compte de l'entrée courante et de ce qui a été appris des entrées précédentes. Dans ce notebook, nous apprendrons comment encoder des séries temporelles, comment créer et former des RNNs.\n",
    "\n",
    "<img src=\"images/rnn.png\" width=550>\n"
   ]
  },
  {
   "cell_type": "markdown",
   "metadata": {},
   "source": [
    "* **Objectif:** Traiter les données séquentielles en tenant compte de l'entrée courante et de ce qui a été appris des entrées précédentes.\n",
    "* **Avantages:** \n",
    "    * Rendre compte de l'ordre et des entrées précédentes.\n",
    "    * Génération conditionnée pour générer des séquences.\n",
    "* **Désavantages:**Désavantages \n",
    "    * La prédiction à chaque pas de temps dépend de la prédiction précédente, il est donc difficile de paralléliser les calculs avec un RNN.\n",
    "    * Le traitement de longues séquences peut entraîner des problèmes de mémoire et de calcul.\n",
    "    * L'interprétabilité est difficile, mais il y a quelques [techniques](https://arxiv.org/abs/1506.02078) qui utilisent les activations des RNN pour voir quelles parties des entrées sont traitées. \n",
    "* **Remarque:** \n",
    "    * L'amélioration de l'architecture pour rendre les RNNs plus rapides et interprétables est un domaine de recherche en cours."
   ]
  },
  {
   "cell_type": "markdown",
   "metadata": {},
   "source": [
    "<img src=\"images/rnn2.png\" width=650>\n",
    "\n",
    "Passe \"forward\" d'un RNN pour un pas de temps $X_t$ :\n",
    "\n",
    "$h_t = tanh(W_{hh}h_{t-1} + W_{xh}X_t+b_h)$\n",
    "\n",
    "$y_t = W_{hy}h_t + b_y $\n",
    "\n",
    "$ P(y) = softmax(y_t) = \\frac{e^y}{\\sum e^y} $\n",
    "\n",
    "*avec*:\n",
    "\n",
    "* $X_t$ = input au temps t, dans $\\mathbb{R}^{NXE}$, avec $N$ la batch size, $E$ la dimension des features (des embeddings si on traite des mots)\n",
    "* $W_{hh}$ = poids des neurones cachés, dans $\\mathbb{R}^{HXH}$, avec $H$ la dim du hidden\n",
    "* $h_{t-1}$ = état caché au temps précédent, dans $\\mathbb{R}^{NXH}$\n",
    "* $W_{xh}$ = poids sur l'entrée, dans $\\mathbb{R}^{EXH}$\n",
    "* $b_h$ = biais des neurones cachés, dans $\\mathbb{R}^{HX1}$\n",
    "* $W_{hy}$ = poids de la sortie, dans $\\mathbb{R}^{HXC}$, avec $C$ le nombre de classes\n",
    "* $b_y$ = biais des neurones de sortie, dans $\\mathbb{R}^{CX1}$\n",
    "\n",
    "On répète ces calculs pour tous les pas de temps en entrée ($X_{t+1}, X_{t+2}, ..., X_{N})$ pour obtenir une prédiction en sortie à chaque pas de temps.\n",
    "\n",
    "**Remarque**: Au premier pas de temps, l'état caché précédent $h_{t-1}$ peut être soit un vecteur de zéros (\"non-conditionné\"), soit initialisé avec certaines valeurs tirées au hasard ou bien fixées par une condition (\"conditionné\").   "
   ]
  },
  {
   "cell_type": "markdown",
   "metadata": {},
   "source": [
    "# Manipulation basique de RNNCell"
   ]
  },
  {
   "cell_type": "code",
   "execution_count": 18,
   "metadata": {
    "ExecuteTime": {
     "end_time": "2019-11-28T08:20:02.659064Z",
     "start_time": "2019-11-28T08:20:02.654551Z"
    }
   },
   "outputs": [],
   "source": [
    "import torch\n",
    "import torch.nn as nn\n",
    "import torch.nn.functional as F"
   ]
  },
  {
   "cell_type": "code",
   "execution_count": 27,
   "metadata": {
    "ExecuteTime": {
     "end_time": "2019-11-28T08:26:49.928690Z",
     "start_time": "2019-11-28T08:26:49.923603Z"
    }
   },
   "outputs": [],
   "source": [
    "batch_size = 5\n",
    "seq_size = 10 # taille max par input (on utilisera du masking pour les séquences qui sont plus petites que cette valeur)\n",
    "x_lengths = [8, 5, 4, 10, 5] # taille de chaque séquence en input \n",
    "embedding_dim = 100\n",
    "rnn_hidden_dim = 256\n",
    "output_dim = 4"
   ]
  },
  {
   "cell_type": "code",
   "execution_count": 28,
   "metadata": {
    "ExecuteTime": {
     "end_time": "2019-11-28T08:26:50.128912Z",
     "start_time": "2019-11-28T08:26:50.123067Z"
    }
   },
   "outputs": [
    {
     "name": "stdout",
     "output_type": "stream",
     "text": [
      "torch.Size([5, 10, 100])\n"
     ]
    }
   ],
   "source": [
    "# Initialisation des inputs synthétiques\n",
    "x_in = torch.randn(batch_size, seq_size, embedding_dim)\n",
    "x_lengths = torch.tensor(x_lengths)\n",
    "print (x_in.size())"
   ]
  },
  {
   "cell_type": "code",
   "execution_count": 29,
   "metadata": {
    "ExecuteTime": {
     "end_time": "2019-11-28T08:26:50.447425Z",
     "start_time": "2019-11-28T08:26:50.441961Z"
    }
   },
   "outputs": [
    {
     "name": "stdout",
     "output_type": "stream",
     "text": [
      "torch.Size([5, 256])\n"
     ]
    }
   ],
   "source": [
    "# Initialisation des hidden states (états cachés) à zéro\n",
    "hidden_t = torch.zeros((batch_size, rnn_hidden_dim))\n",
    "print (hidden_t.size())"
   ]
  },
  {
   "cell_type": "code",
   "execution_count": 30,
   "metadata": {
    "ExecuteTime": {
     "end_time": "2019-11-28T08:26:50.786289Z",
     "start_time": "2019-11-28T08:26:50.778818Z"
    }
   },
   "outputs": [
    {
     "name": "stdout",
     "output_type": "stream",
     "text": [
      "RNNCell(100, 256)\n"
     ]
    }
   ],
   "source": [
    "# Initialisation de la cellule RNN\n",
    "rnn_cell = nn.RNNCell(embedding_dim, rnn_hidden_dim)\n",
    "print (rnn_cell)"
   ]
  },
  {
   "cell_type": "code",
   "execution_count": 42,
   "metadata": {
    "ExecuteTime": {
     "end_time": "2019-11-28T08:54:02.271712Z",
     "start_time": "2019-11-28T08:54:02.260136Z"
    }
   },
   "outputs": [
    {
     "name": "stdout",
     "output_type": "stream",
     "text": [
      "torch.Size([5, 10, 256])\n"
     ]
    }
   ],
   "source": [
    "# Passe forward à travers le RNN\n",
    "x_in = x_in.permute(1, 0, 2) # Le RNN prend la batch_size en dim 1\n",
    "\n",
    "# On loop sur les pas de temps\n",
    "hiddens = []\n",
    "for t in range(seq_size):\n",
    "    hidden_t = rnn_cell(x_in[t], hidden_t)\n",
    "    hiddens.append(hidden_t)\n",
    "hiddens = torch.stack(hiddens)\n",
    "hiddens = hiddens.permute(1, 0, 2) # on remet la batch_size à la dim 0 (plus logique)\n",
    "print (hiddens.size())"
   ]
  },
  {
   "cell_type": "code",
   "execution_count": 43,
   "metadata": {
    "ExecuteTime": {
     "end_time": "2019-11-28T08:54:02.857721Z",
     "start_time": "2019-11-28T08:54:02.851135Z"
    }
   },
   "outputs": [],
   "source": [
    "def gather_last_relevant_hidden(hiddens, x_lengths):\n",
    "    x_lengths = x_lengths.long().detach().cpu().numpy() - 1\n",
    "    out = []\n",
    "    for batch_index, column_index in enumerate(x_lengths):\n",
    "        out.append(hiddens[batch_index, column_index])\n",
    "    return torch.stack(out)"
   ]
  },
  {
   "cell_type": "code",
   "execution_count": 44,
   "metadata": {
    "ExecuteTime": {
     "end_time": "2019-11-28T08:54:03.199840Z",
     "start_time": "2019-11-28T08:54:03.194951Z"
    }
   },
   "outputs": [
    {
     "name": "stdout",
     "output_type": "stream",
     "text": [
      "torch.Size([5, 256])\n"
     ]
    }
   ],
   "source": [
    "# Gather the last relevant hidden state\n",
    "z = gather_last_relevant_hidden(hiddens, x_lengths)\n",
    "print (z.size())"
   ]
  },
  {
   "cell_type": "code",
   "execution_count": 45,
   "metadata": {
    "ExecuteTime": {
     "end_time": "2019-11-28T08:54:03.603117Z",
     "start_time": "2019-11-28T08:54:03.594891Z"
    }
   },
   "outputs": [
    {
     "name": "stdout",
     "output_type": "stream",
     "text": [
      "torch.Size([5, 4])\n",
      "tensor([[0.2885, 0.2099, 0.2444, 0.2572],\n",
      "        [0.2612, 0.2535, 0.2398, 0.2455],\n",
      "        [0.2417, 0.2005, 0.3282, 0.2296],\n",
      "        [0.2126, 0.2512, 0.2470, 0.2892],\n",
      "        [0.1783, 0.3209, 0.2918, 0.2090]], grad_fn=<SoftmaxBackward>)\n"
     ]
    }
   ],
   "source": [
    "# Passe forward dans une couche full-connected \n",
    "fc1 = nn.Linear(rnn_hidden_dim, output_dim)\n",
    "y_pred = fc1(z)\n",
    "y_pred = F.softmax(y_pred, dim=1)\n",
    "print (y_pred.size())\n",
    "print (y_pred)"
   ]
  },
  {
   "cell_type": "markdown",
   "metadata": {},
   "source": [
    "# Manipulation basique de RNN"
   ]
  },
  {
   "cell_type": "markdown",
   "metadata": {},
   "source": [
    "Nous pouvons utiliser la couche RNN qui est plus haut-niveau que RNNCell (plus abstraite)\n",
    "pour éviter de faire une boucle (nn.RNN est plus optimisé qu'une boucle)\n"
   ]
  },
  {
   "cell_type": "code",
   "execution_count": 37,
   "metadata": {
    "ExecuteTime": {
     "end_time": "2019-11-28T08:42:06.436611Z",
     "start_time": "2019-11-28T08:42:06.421375Z"
    }
   },
   "outputs": [
    {
     "name": "stdout",
     "output_type": "stream",
     "text": [
      "in:  torch.Size([5, 10, 100])\n",
      "out:  torch.Size([5, 10, 256])\n",
      "h_n:  torch.Size([1, 5, 256])\n",
      "tensor([1, 1, 1, 1, 1, 1, 1, 1, 1, 1], dtype=torch.uint8)\n"
     ]
    }
   ],
   "source": [
    "x_in = torch.randn(batch_size, seq_size, embedding_dim)\n",
    "rnn = nn.RNN(embedding_dim, rnn_hidden_dim, batch_first=True) # l'option batch_first=True permet de garder la dim batch en premier\n",
    "out, h_n = rnn(x_in) \n",
    "# out : la série temporelle des prédictions\n",
    "# h_n : le dernier état caché à récupérer pour faire de la classification par exemple\n",
    "\n",
    "print (\"in: \", x_in.size())\n",
    "print (\"out: \", out.size())\n",
    "print (\"h_n: \", h_n.size())\n",
    "\n",
    "# Y a-t'il une différence entre le dernier vecteur de out et h_n ?\n",
    "print(out[0, 9, :10] == h_n[0, 0, :10])"
   ]
  },
  {
   "cell_type": "code",
   "execution_count": 38,
   "metadata": {
    "ExecuteTime": {
     "end_time": "2019-11-28T08:53:06.711167Z",
     "start_time": "2019-11-28T08:53:06.700433Z"
    }
   },
   "outputs": [
    {
     "name": "stdout",
     "output_type": "stream",
     "text": [
      "torch.Size([1, 5, 4])\n",
      "tensor([[[0.2527, 0.1788, 0.1901, 0.2795],\n",
      "         [0.1751, 0.2291, 0.1916, 0.2059],\n",
      "         [0.2314, 0.1812, 0.2669, 0.1534],\n",
      "         [0.1756, 0.2396, 0.1576, 0.1979],\n",
      "         [0.1652, 0.1713, 0.1938, 0.1633]]], grad_fn=<SoftmaxBackward>)\n"
     ]
    }
   ],
   "source": [
    "# Passe forward dans une couche full-connected \n",
    "fc1 = nn.Linear(rnn_hidden_dim, output_dim)\n",
    "y_pred = fc1(h_n)\n",
    "y_pred = F.softmax(y_pred, dim=1)\n",
    "print (y_pred.size())\n",
    "print (y_pred)"
   ]
  },
  {
   "cell_type": "markdown",
   "metadata": {},
   "source": [
    "# Données séquentielles"
   ]
  },
  {
   "cell_type": "markdown",
   "metadata": {
    "ExecuteTime": {
     "end_time": "2019-11-27T18:08:39.758749Z",
     "start_time": "2019-11-27T18:08:39.745650Z"
    }
   },
   "source": [
    "Plusieurs types de tâches séquentielles peuvent être réalisées par des RNNs.\n",
    "\n",
    "1. **One-to-one** : une entrée génère une sortie. \n",
    "    * Ex. Donner un mot et prédire sa catégorie syntaxique (verbe, nom, etc.).\n",
    "    \n",
    "2. **One-to-Many** : une entrée génère plusieurs sorties.\n",
    "    * Ex. Prédire une opinion (positive, négative, etc., on parle de sentiment analysis), générer une critique.\n",
    "\n",
    "3. **Many-to-one** : de nombreuses entrées sont traitées séquentiellement pour générer une seule sortie.\n",
    "    * Ex. Traiter les mots dans une critique pour prédire sa \"valence\" (positive ou négative).\n",
    "\n",
    "4. **Many-to-many** : de nombreuses entrées sont traitées séquentiellement pour générer de nombreuses sorties.\n",
    "    * Ex. Le modèle encode une phrase en français, il traite toute la phrase, puis en produit la traduction anglaise.\n",
    "    * Ex. Étant donnée une série de données chronologiques, prédire la probabilité d'un événement (risque de maladie) à chaque temps.\n",
    "\n",
    "<img src=\"images/seq2seq.jpeg\" width=700>"
   ]
  },
  {
   "cell_type": "markdown",
   "metadata": {},
   "source": [
    "# Limites des RNNs \"vanilla\""
   ]
  },
  {
   "cell_type": "markdown",
   "metadata": {},
   "source": [
    "Il y a plusieurs problèmes avec les RNN simples (dits \"vanilla\" en anglais) que nous avons vus ci-dessus. \n",
    "\n",
    "1. Lorsque nous avons une très longue séquence d'entrée, il devient difficile pour le modèle de conserver l'information vue plus tôt à mesure que nous traitons la séquence. L'objectif du modèle est de conserver les informations utiles des pas de temps précédents, mais cela devient impossible pour une taille de séquence trop grande.\n",
    "\n",
    "2. Pendant la rétropropropagation, le gradient de la fonction de perte doit remonter jusqu'au premier pas de temps. Si notre gradient est supérieur à 1 (${1.01}^{1000} = 20959$) ou inférieur à 1 (${{0.99}^{1000} = 4.31e-5$) et que nous avons beaucoup de pas de temps, cela peut rapidement dégénérer.\n",
    "\n",
    "Pour répondre à ces deux questions, le concept de \"porte\" (\"gate\") a été introduit dans les RNN. Les gates permettent aux RNN de contrôler le flux d'information entre les étapes temporelles afin d'optimiser la tâche à réaliser. Le fait de laisser passer sélectivement l'information permet au modèle de traiter des données séquentielles très longues. Les variantes les plus courantes des RNN sont les unités de mémoire à court terme, appelées [LSTM](https://pytorch.org/docs/stable/nn.html#torch.nn.LSTM), et les unités récurrentes à \"porte\" [GRU](https://pytorch.org/docs/stable/nn.html#torch.nn.GRU). Vous pouvez en savoir plus sur le fonctionnement de ces unités [ici](http://colah.github.io/posts/2015-08-Understanding-LSTMs/).\n",
    "\n",
    "<img src=\"images/gates.png\" width=900>"
   ]
  },
  {
   "cell_type": "code",
   "execution_count": 46,
   "metadata": {
    "ExecuteTime": {
     "end_time": "2019-11-28T09:10:39.744612Z",
     "start_time": "2019-11-28T09:10:39.734225Z"
    }
   },
   "outputs": [],
   "source": [
    "# GRU in PyTorch\n",
    "gru = nn.GRU(input_size=embedding_dim, hidden_size=rnn_hidden_dim, \n",
    "             batch_first=True)"
   ]
  },
  {
   "cell_type": "code",
   "execution_count": 47,
   "metadata": {
    "ExecuteTime": {
     "end_time": "2019-11-28T09:10:40.868166Z",
     "start_time": "2019-11-28T09:10:40.862448Z"
    }
   },
   "outputs": [
    {
     "name": "stdout",
     "output_type": "stream",
     "text": [
      "torch.Size([5, 10, 100])\n"
     ]
    }
   ],
   "source": [
    "# Initialize synthetic input\n",
    "x_in = torch.randn(batch_size, seq_size, embedding_dim)\n",
    "print (x_in.size())"
   ]
  },
  {
   "cell_type": "code",
   "execution_count": 48,
   "metadata": {
    "ExecuteTime": {
     "end_time": "2019-11-28T09:10:42.170388Z",
     "start_time": "2019-11-28T09:10:42.158020Z"
    }
   },
   "outputs": [
    {
     "name": "stdout",
     "output_type": "stream",
     "text": [
      "out: torch.Size([5, 10, 256])\n",
      "h_n: torch.Size([1, 5, 256])\n"
     ]
    }
   ],
   "source": [
    "# Forward pass\n",
    "out, h_n = gru(x_in)\n",
    "print (\"out:\", out.size())\n",
    "print (\"h_n:\", h_n.size())"
   ]
  },
  {
   "cell_type": "markdown",
   "metadata": {},
   "source": [
    "**Remarque**: Le choix d'utiliser des GRU ou des LSTM dépend des données et des performances empiriques. Les GRU offrent des performances comparables avec un nombre réduit de paramètres, tandis que les LSTM sont plus efficaces et peuvent faire la différence en termes de performances pour une tâche particulière."
   ]
  },
  {
   "cell_type": "markdown",
   "metadata": {},
   "source": [
    "# RNNs bidirectionnels"
   ]
  },
  {
   "cell_type": "markdown",
   "metadata": {},
   "source": [
    "Beaucoup de progrès ont été réalisés ces dernières années avec les RNN, comme par exemple l'introduction de mécanismes d'[attention](https://www.oreilly.com/ideas/interpretability-via-attentional-and-memory-based-interfaces-using-tensorflow), les Quasi-RNNs, etc. L'une de ces avancées, largement utilisée, sont les RNNNs bidirectionnels (Bi-RNNs). La motivation derrière les RNN bidirectionnels est de traiter une séquence d'entrée dans les deux sens. La prise en compte du contexte dans les deux sens peut améliorer la performance lorsque toute la séquence d'entrée est connue au moment de l'inférence. Une application courante des Bi-RNNs est la traduction automatique : il est avantageux de considérer une phrase entière dans les deux sens pour la traduire dans une autre langue.\n",
    "\n",
    "<img src=\"images/birnn.png\" width=700>"
   ]
  },
  {
   "cell_type": "code",
   "execution_count": 49,
   "metadata": {
    "ExecuteTime": {
     "end_time": "2019-11-28T09:14:41.013179Z",
     "start_time": "2019-11-28T09:14:40.994274Z"
    }
   },
   "outputs": [],
   "source": [
    "# BiGRU en PyTorch\n",
    "bi_gru = nn.GRU(input_size=embedding_dim, hidden_size=rnn_hidden_dim, \n",
    "                batch_first=True, bidirectional=True)"
   ]
  },
  {
   "cell_type": "code",
   "execution_count": 51,
   "metadata": {
    "ExecuteTime": {
     "end_time": "2019-11-28T09:15:35.733207Z",
     "start_time": "2019-11-28T09:15:35.715664Z"
    }
   },
   "outputs": [
    {
     "name": "stdout",
     "output_type": "stream",
     "text": [
      "out: torch.Size([5, 10, 512])\n",
      "h_n: torch.Size([2, 5, 256])\n"
     ]
    }
   ],
   "source": [
    "# Passe forward \n",
    "out, h_n = bi_gru(x_in)\n",
    "print (\"out:\", out.size()) # tenseur contenant tous les hidden states du RNN\n",
    "print (\"h_n:\", h_n.size()) # le dernier hidden state du RNN"
   ]
  },
  {
   "cell_type": "markdown",
   "metadata": {},
   "source": [
    "La sortie à chaque temps a une taille de 512, le double de la dim cachée précisée lors de la création de la couche GRU. Cela s'explique par le fait qu'elle inclut à la fois les directions avant et arrière encodées par le BiRNNN. "
   ]
  },
  {
   "cell_type": "markdown",
   "metadata": {},
   "source": [
    "https://medium.com/dair-ai/building-rnns-is-fun-with-pytorch-and-google-colab-3903ea9a3a79"
   ]
  },
  {
   "cell_type": "code",
   "execution_count": null,
   "metadata": {},
   "outputs": [],
   "source": []
  }
 ],
 "metadata": {
  "kernelspec": {
   "display_name": "Python 3",
   "language": "python",
   "name": "python3"
  },
  "language_info": {
   "codemirror_mode": {
    "name": "ipython",
    "version": 3
   },
   "file_extension": ".py",
   "mimetype": "text/x-python",
   "name": "python",
   "nbconvert_exporter": "python",
   "pygments_lexer": "ipython3",
   "version": "3.6.3"
  },
  "toc": {
   "nav_menu": {},
   "number_sections": true,
   "sideBar": true,
   "skip_h1_title": false,
   "toc_cell": true,
   "toc_position": {},
   "toc_section_display": "block",
   "toc_window_display": false
  }
 },
 "nbformat": 4,
 "nbformat_minor": 2
}
